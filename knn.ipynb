{
  "nbformat": 4,
  "nbformat_minor": 0,
  "metadata": {
    "colab": {
      "name": "List_In_python.ipynb",
      "provenance": [],
      "authorship_tag": "ABX9TyOhSRNCYdkDh5Yy5zKRQYr1",
      "include_colab_link": true
    },
    "kernelspec": {
      "name": "python3",
      "display_name": "Python 3"
    },
    "language_info": {
      "name": "python"
    }
  },
  "cells": [
    {
      "cell_type": "markdown",
      "metadata": {
        "id": "view-in-github",
        "colab_type": "text"
      },
      "source": [
        "<a href=\"https://colab.research.google.com/github/mahdiyar95/Python_Useful_Codes/blob/ML_Algorithm_Fundamentals/knn.ipynb\" target=\"_parent\"><img src=\"https://colab.research.google.com/assets/colab-badge.svg\" alt=\"Open In Colab\"/></a>"
      ]
    },
    {
      "cell_type": "code",
      "execution_count": 68,
      "metadata": {
        "colab": {
          "base_uri": "https://localhost:8080/"
        },
        "id": "3ok_jm3IrLXp",
        "outputId": "f7db6ea7-cdee-4784-96c2-4b177077bdf6"
      },
      "outputs": [
        {
          "output_type": "stream",
          "name": "stdout",
          "text": [
            "a\n",
            "['a', 'b', 'c', 'd', 'e', 'f']\n",
            "['a', 'b', 'c', 'd', 'e', 'f', 'g']\n",
            "['g', 'f', 'e', 'd', 'c', 'b', 'a']\n",
            "---------------------------------------\n",
            "['a', 'b', 'c', 'd', 'e', 'f', 'g', 'h']\n",
            "['a', 'b', 'c', 'd', 'e', 'f', 'g']\n",
            "['a', 'b', 5, 7, 'c', 'd', 'e', 'f', 'g']\n",
            "7\n",
            "['a', 'b', 5, 'c', 'd', 'e', 'f', 'g']\n",
            "['a', 'b', 'c', 'd', 'e', 'f', 'g']\n",
            "----------------------------------------\n",
            "['a', 'b', 'c', 'd', 'e', 'f', 'g']\n",
            "['g', 'f', 'e', 'd', 'c', 'b', 'a']\n",
            "['a', 'b', 'c', 'd', 'e', 'f', 'g']\n",
            "----------------------------------------\n",
            "[0, 1, 2, 3, 4, 5, 6, 7, 8, 9]\n",
            "[9, 8, 7, 6, 5, 4, 3, 2, 1, 0]\n",
            "[0, 1, 2, 3, 4, 5, 6, 7, 8, 9]\n",
            "[0, 1, 2]\n",
            "----------------------------------------\n",
            "M\n",
            "o\n",
            "1\n",
            "----------------------------------------\n",
            "[(10, 0), (3, 1), (8, 2), (2, 3), (17, 4), (5, 5), (1, 6)]\n",
            "[(1, 6), (2, 3), (3, 1), (5, 5), (8, 2), (10, 0), (17, 4)]\n",
            "[(1, 6), (2, 3), (3, 1)]\n",
            "----------------------------------------\n",
            "0\n",
            "[6, 3, 1]\n"
          ]
        }
      ],
      "source": [
        "myList = ['a','b','c','d','e','f','g']\n",
        "print(myList[0])\n",
        "print(myList[:-1])\n",
        "print(myList[:])\n",
        "print(myList[::-1])\n",
        "print('---------------------------------------')\n",
        "myList.append('h')\n",
        "print(myList)\n",
        "myList.remove('h')\n",
        "print(myList)\n",
        "myList[2:2]=[5,7]\n",
        "print(myList)\n",
        "print(myList.pop(3))\n",
        "print(myList)\n",
        "myList.remove(5)\n",
        "print(myList)\n",
        "print('----------------------------------------')\n",
        "myList_1=sorted(myList)\n",
        "print(myList_1)\n",
        "myList_2=myList[::-1]\n",
        "print(myList_2)\n",
        "myList_1=sorted(myList_2)\n",
        "print(myList_1)\n",
        "print('----------------------------------------')\n",
        "myList_3=[i for i in range(10)]\n",
        "print(myList_3)\n",
        "myList_3=myList_3[::-1]\n",
        "print(myList_3)\n",
        "myList_4=sorted(myList_3)\n",
        "print(myList_4)\n",
        "myList_5=myList_4[:3]\n",
        "print(myList_5)\n",
        "print('----------------------------------------')\n",
        "myList_5=[\"Mahdiyar Moghaddam\", [1, 3, 7, 4]]\n",
        "print(myList_5[0][0])\n",
        "print(myList_5[0][10])\n",
        "print(myList_5[1][0])\n",
        "\n",
        "print('----------------------------------------')\n",
        "#(distance,index)\n",
        "myList_6=[(10,0),(3,1),(8,2),(2,3),(17,4),(5,5),(1,6)]\n",
        "print(myList_6)\n",
        "sorted_neighbor_distances_and_indices = sorted(myList_6)\n",
        "print(sorted_neighbor_distances_and_indices)\n",
        "k_nearest_distances_and_indices = sorted_neighbor_distances_and_indices[:3] \n",
        "print(k_nearest_distances_and_indices)\n",
        "print('----------------------------------------')\n",
        "\"\"\"\n",
        "data:\n",
        "\n",
        " index     label     value     designer\n",
        "--------------------------------------------\n",
        "   0       shoes      1500      zara\n",
        "   1       jeans      5000      armani\n",
        "   2       shoes      1800      armani\n",
        "   3       dress      5000      zara\n",
        "   4       shoes      2500      zara\n",
        "   5       jeans      2000      armani\n",
        "   6       shoes      2800      armani\n",
        "   7       dress      8000      zara              \n",
        "   8       shoes      9500      zara\n",
        "   9       jeans      1350      armani\n",
        "   10      shoes      1525      armani\n",
        "   11      dress      3765      zara\n",
        "\"\"\"\n",
        "data = [[0,1,2,3,4,5,6,7,8,9,10,11],['shoes','jeans','shoes','dress','shoes','jeans','shoes','dress','shoes','jeans','shoes','dress'],\n",
        "        [1500,5000,1800,5000,2500,2000,2800,8000,9500,1350,1525,3765],\n",
        "        ['zara','armani','armani','zara','zara','armani','armani','zara','zara','armani','armani','zara',]]\n",
        "k_nearest_labels = [data[0][i] for distance, i in k_nearest_distances_and_indices]   \n",
        "print(k_nearest_labels)"
      ]
    },
    {
      "cell_type": "code",
      "source": [
        ""
      ],
      "metadata": {
        "id": "R-lc_Lq1s6m8"
      },
      "execution_count": null,
      "outputs": []
    }
  ]
}