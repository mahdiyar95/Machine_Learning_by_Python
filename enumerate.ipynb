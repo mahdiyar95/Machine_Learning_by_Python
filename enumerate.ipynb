{
  "nbformat": 4,
  "nbformat_minor": 0,
  "metadata": {
    "colab": {
      "name": "enumerate.ipynb",
      "provenance": [],
      "collapsed_sections": [],
      "authorship_tag": "ABX9TyOk00ri1d2UhJbX889SBUaQ",
      "include_colab_link": true
    },
    "kernelspec": {
      "name": "python3",
      "display_name": "Python 3"
    },
    "language_info": {
      "name": "python"
    }
  },
  "cells": [
    {
      "cell_type": "markdown",
      "metadata": {
        "id": "view-in-github",
        "colab_type": "text"
      },
      "source": [
        "<a href=\"https://colab.research.google.com/github/mahdiyar95/Python_Useful_Puzzles/blob/main/enumerate.ipynb\" target=\"_parent\"><img src=\"https://colab.research.google.com/assets/colab-badge.svg\" alt=\"Open In Colab\"/></a>"
      ]
    },
    {
      "cell_type": "code",
      "execution_count": 2,
      "metadata": {
        "colab": {
          "base_uri": "https://localhost:8080/"
        },
        "id": "ACv-3uY_Nphz",
        "outputId": "d56fe4ac-2fcb-4fff-abcc-4721931020e4"
      },
      "outputs": [
        {
          "output_type": "stream",
          "name": "stdout",
          "text": [
            "1 Audi\n",
            "2 BMW\n",
            "3 Mercedes\n",
            "4 Porsche\n",
            "----------------------------------------\n",
            "5 Ford\n",
            "6 Chevi\n",
            "7 Lincoln\n",
            "8 Tesla\n",
            "----------------------------------------\n",
            "9 Ford\n",
            "10 Chevi\n",
            "11 Lincoln\n",
            "12 Tesla\n",
            "----------------------------------------\n",
            "1 Audi Ford Toyota\n",
            "2 BMW Chevi Nissan\n",
            "3 Mercedes Lincoln Mazda\n",
            "4 Porsche Tesla Mitsubishi\n"
          ]
        }
      ],
      "source": [
        "# in this part we can see :\n",
        "# \"enumerate\" to use counter in for loop \n",
        "# \"zip\" in order to multiple inputs\n",
        "\n",
        "\n",
        "values1=['Audi','BMW','Mercedes','Porsche']\n",
        "values2=['Ford','Chevi','Lincoln','Tesla']\n",
        "values3=['Toyota','Nissan','Mazda','Mitsubishi']\n",
        "\n",
        "for cntr, value1 in enumerate(values1, start=1):\n",
        "  print(cntr, value1)\n",
        "\n",
        "print('----------------------------------------')\n",
        "\n",
        "for cntr, value2 in enumerate(values2, start=5):\n",
        "  print(cntr, value2)\n",
        "\n",
        "print('----------------------------------------')\n",
        "\n",
        "for cntr, value2 in enumerate(values2, start=9):\n",
        "  print(cntr, value2)\n",
        "\n",
        "print('----------------------------------------')\n",
        "\n",
        "for cntr, (value1,value2,value3) in enumerate(zip(values1,values2,values3), start=1):\n",
        "  print((cntr, value1, value2, value3)\n"
      ]
    },
    {
      "cell_type": "code",
      "source": [
        ""
      ],
      "metadata": {
        "id": "1fu-oCShO3wk"
      },
      "execution_count": null,
      "outputs": []
    }
  ]
}