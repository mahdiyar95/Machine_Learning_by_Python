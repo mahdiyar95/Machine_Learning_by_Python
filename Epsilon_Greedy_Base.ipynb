{
 "cells": [
  {
   "cell_type": "markdown",
   "id": "ea59aad2",
   "metadata": {},
   "source": [
    "# Epsilon Greedy Method \n",
    "\n",
    "<br> <br> \n",
    "\n",
    "\n",
    "### Algorithm  \n",
    "<br> \n",
    "Our goal is to maximize the total rewards and our limitation is that (in reality) we do not know each machine's win probability, so we choose the best machine. Therefore, to obtain these probabilities, we need to play with all machines. But how much we should explore? The actual aim is to strike a balance between exploration and exploitation. The algorithm's approach to doing this is whenever we want to play, decide between explore and exploit. The decision will be made by chance so that in each step, we generate a random number between 0 and 1, if the number is less than epsilon, we explore and vice versa.\n",
    "\n",
    "<br> <br> \n",
    "### Program\n",
    "<br> \n",
    "Let's say we are in a casino that has 4 machines and we are allowed to play 10000 times. Each time we select one of those machines and play with that. The rule is If the machine returns 1, we obtain 1 dollar and if it returns 0, we don't gain. So, we want to collect dollars as much as possible by applying the epsilon-greedy method. Therefore, the program should simulate us and machines. \n",
    "<br><br>\n",
    "To do that we need to :<br><br>\n",
    "1-  create a machine object. This object simulates a machine that does two functions. First, \"pull\" : returns 1 (win) with machine probability (\"p\") and second, \"update\" : updates the machine's success rate. \n",
    "<br><br>\n",
    "2- Create 4 machines with 4 different win probabilities \n",
    "<br><br>\n",
    "3 - Run the algorithm over a 10000-iteration period.\n",
    "<br><br>\n",
    "4- Demonstrate the results including:\n",
    " . the number of explorations\n",
    ".  the number of exploitations\n",
    ". the number of selecting the best machine\n",
    ".  Total rewards\n",
    ". overall win rate\n",
    "\n",
    "\n",
    "\n",
    "\n",
    "\n"
   ]
  },
  {
   "cell_type": "code",
   "execution_count": 97,
   "id": "68c1264c",
   "metadata": {},
   "outputs": [],
   "source": [
    "import numpy as np\n",
    "import matplotlib.pyplot as plt"
   ]
  },
  {
   "cell_type": "code",
   "execution_count": 133,
   "id": "5df877c3",
   "metadata": {},
   "outputs": [],
   "source": [
    "# define epsilon , number of iterations and 4 different probabilities to create 4 machines\n",
    "EPS = 0.1\n",
    "IterNum = 10000\n",
    "MachineProbability = [0.2, 0.8, 0.6, 0.5]\n",
    "# for p in MachineProbability:\n",
    "#    print(p)\n",
    "# bestMachine = np.argmax(MachineProbability)\n",
    "# print(bestMachine)"
   ]
  },
  {
   "cell_type": "code",
   "execution_count": 134,
   "id": "45740d21",
   "metadata": {},
   "outputs": [],
   "source": [
    "class Machine:\n",
    "    def __init__ (self,p):\n",
    "        self.p = p\n",
    "        self.N = 0\n",
    "        self.win_rate = 0\n",
    "    def pull(self):\n",
    "        return np.random.random() < self.p\n",
    "    def update(self,x):\n",
    "        self.N += 1\n",
    "        self.win_rate = ((self.N - 1)* self.win_rate + x)/(self.N)"
   ]
  },
  {
   "cell_type": "code",
   "execution_count": 135,
   "id": "9aba7800",
   "metadata": {},
   "outputs": [
    {
     "name": "stdout",
     "output_type": "stream",
     "text": [
      "1\n",
      "0.2\n",
      "0.8\n",
      "0.6\n",
      "0.5\n"
     ]
    }
   ],
   "source": [
    "machines = [Machine(p) for p in MachineProbability]\n",
    "exploreNum = 0 \n",
    "exploitNum = 0\n",
    "optimalExpNum = 0\n",
    "rewards = np.zeros(IterNum)\n",
    "optimalMachine = np.argmax([m.p for m in machines])\n",
    "print(optimalMachine)\n",
    "for m in machines:\n",
    "     print(m.p)"
   ]
  },
  {
   "cell_type": "code",
   "execution_count": 136,
   "id": "e1c10a4a",
   "metadata": {},
   "outputs": [],
   "source": [
    "for i in range(IterNum):\n",
    "    randomNumber = np.random.random()\n",
    "    if randomNumber < EPS: # explor\n",
    "        exploreNum += 1\n",
    "        selectedMachine = np.random.randint(len(machines))\n",
    "        \n",
    "    else:\n",
    "        exploitNum += 1\n",
    "        selectedMachine = np.argmax([m.win_rate for m in machines])\n",
    "    \n",
    "    if selectedMachine == optimalMachine:\n",
    "        optimalExpNum += 1\n",
    "    \n",
    "    reward = machines[selectedMachine].pull()\n",
    "    rewards[i] = reward\n",
    "    machines[selectedMachine].update(reward)"
   ]
  },
  {
   "cell_type": "code",
   "execution_count": 137,
   "id": "681cb5b0",
   "metadata": {},
   "outputs": [
    {
     "name": "stdout",
     "output_type": "stream",
     "text": [
      "win rate for machine 0.2 is 0.2021660649819495\n",
      "win rate for machine 0.8 is 0.8011055712117918\n",
      "win rate for machine 0.6 is 0.6091954022988505\n",
      "win rate for machine 0.5 is 0.4957627118644069\n"
     ]
    }
   ],
   "source": [
    "for m in machines:\n",
    "    print (\"win rate for machine \" + str(m.p) + \" is \" + str(m.win_rate))"
   ]
  },
  {
   "cell_type": "code",
   "execution_count": 138,
   "id": "bf743c1a",
   "metadata": {},
   "outputs": [
    {
     "name": "stdout",
     "output_type": "stream",
     "text": [
      "Total rewards is equal to 7723.0\n"
     ]
    }
   ],
   "source": [
    "print(\"Total rewards is equal to \" + str(rewards.sum()))"
   ]
  },
  {
   "cell_type": "code",
   "execution_count": 139,
   "id": "4f3d1ae6",
   "metadata": {},
   "outputs": [
    {
     "name": "stdout",
     "output_type": "stream",
     "text": [
      "Overall win rate is 0.7723\n"
     ]
    }
   ],
   "source": [
    "print(\"Overall win rate is \" + str((rewards.sum()/IterNum)))"
   ]
  },
  {
   "cell_type": "code",
   "execution_count": 140,
   "id": "4b795dd2",
   "metadata": {},
   "outputs": [
    {
     "name": "stdout",
     "output_type": "stream",
     "text": [
      "The number of exploration is 1019\n"
     ]
    }
   ],
   "source": [
    "print(\"The number of exploration is \" + str(exploreNum))"
   ]
  },
  {
   "cell_type": "code",
   "execution_count": 141,
   "id": "9d87fb7b",
   "metadata": {},
   "outputs": [
    {
     "name": "stdout",
     "output_type": "stream",
     "text": [
      "The number of exploitation is 8981\n"
     ]
    }
   ],
   "source": [
    "print(\"The number of exploitation is \" + str(exploitNum))"
   ]
  },
  {
   "cell_type": "code",
   "execution_count": 142,
   "id": "563f3b7a",
   "metadata": {},
   "outputs": [
    {
     "name": "stdout",
     "output_type": "stream",
     "text": [
      "We've chosen optimal machine 9226 times.\n"
     ]
    }
   ],
   "source": [
    "print(\"We've chosen optimal machine \" + str(optimalExpNum) + \" times.\")"
   ]
  },
  {
   "cell_type": "code",
   "execution_count": 143,
   "id": "c52c64fe",
   "metadata": {},
   "outputs": [
    {
     "data": {
      "image/png": "[encoded data removed]",
      "text/plain": [
       "<Figure size 432x288 with 1 Axes>"
      ]
     },
     "metadata": {
      "needs_background": "light"
     },
     "output_type": "display_data"
    }
   ],
   "source": [
    "cumulative_rewards = np.cumsum(rewards)\n",
    "cumulative_win_rate = cumulative_rewards / (np.arange(IterNum) + 1)\n",
    "plt.plot(cumulative_win_rate)\n",
    "plt.plot(np.ones(IterNum) * np.max(MachineProbability))\n",
    "plt.show()"
   ]
  },
  {
   "cell_type": "code",
   "execution_count": null,
   "id": "93d0b51b",
   "metadata": {},
   "outputs": [],
   "source": []
  }
 ],
 "metadata": {
  "kernelspec": {
   "display_name": "Python 3 (ipykernel)",
   "language": "python",
   "name": "python3"
  },
  "language_info": {
   "codemirror_mode": {
    "name": "ipython",
    "version": 3
   },
   "file_extension": ".py",
   "mimetype": "text/x-python",
   "name": "python",
   "nbconvert_exporter": "python",
   "pygments_lexer": "ipython3",
   "version": "3.10.4"
  }
 },
 "nbformat": 4,
 "nbformat_minor": 5
}
