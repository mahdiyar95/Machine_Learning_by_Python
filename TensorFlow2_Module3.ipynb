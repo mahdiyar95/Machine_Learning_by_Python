{
  "nbformat": 4,
  "nbformat_minor": 0,
  "metadata": {
    "colab": {
      "name": "TensorFlow2_Module3.ipynb",
      "provenance": [],
      "authorship_tag": "ABX9TyPsRkQh8vIYiulAX9hlakm3",
      "include_colab_link": true
    },
    "kernelspec": {
      "name": "python3",
      "display_name": "Python 3"
    },
    "language_info": {
      "name": "python"
    }
  },
  "cells": [
    {
      "cell_type": "markdown",
      "metadata": {
        "id": "view-in-github",
        "colab_type": "text"
      },
      "source": [
        "<a href=\"https://colab.research.google.com/github/mahdiyar95/Python_Useful_Codes/blob/ML_Algorithm_Fundamentals/TensorFlow2_Module3.ipynb\" target=\"_parent\"><img src=\"https://colab.research.google.com/assets/colab-badge.svg\" alt=\"Open In Colab\"/></a>"
      ]
    },
    {
      "cell_type": "code",
      "execution_count": 23,
      "metadata": {
        "colab": {
          "base_uri": "https://localhost:8080/",
          "height": 286
        },
        "id": "7cOwjjeiSIrz",
        "outputId": "7b477af5-e8de-4d05-fc2a-0c6fa89a1ea4"
      },
      "outputs": [
        {
          "output_type": "execute_result",
          "data": {
            "text/plain": [
              "(0.0, 10.0, 0.0, 40.0)"
            ]
          },
          "metadata": {},
          "execution_count": 23
        },
        {
          "output_type": "display_data",
          "data": {
            "text/plain": [
              "<Figure size 432x288 with 1 Axes>"
            ],
            "image/png": "[encoded data removed]"
          },
          "metadata": {
            "needs_background": "light"
          }
        }
      ],
      "source": [
        "import matplotlib.pyplot as plt\n",
        "import numpy as np\n",
        "\n",
        "x=[1,2,2.5,3,4,4.5,6,7,8,9,10]\n",
        "y=[3,5,8.5,10,12,15,20,20,22,29,34]\n",
        "plt.plot(x,y,'ro')\n",
        "plt.axis([0,10,0,40])"
      ]
    },
    {
      "cell_type": "code",
      "source": [
        "print(x)\n",
        "X = np.unique(x)\n",
        "print(X)\n"
      ],
      "metadata": {
        "colab": {
          "base_uri": "https://localhost:8080/"
        },
        "id": "tzGG_sqASkuK",
        "outputId": "bc426cf7-514a-46a9-8667-8638a4442035"
      },
      "execution_count": 24,
      "outputs": [
        {
          "output_type": "stream",
          "name": "stdout",
          "text": [
            "[1, 2, 2.5, 3, 4, 4.5, 6, 7, 8, 9, 10]\n",
            "[ 1.   2.   2.5  3.   4.   4.5  6.   7.   8.   9.  10. ]\n"
          ]
        }
      ]
    },
    {
      "cell_type": "code",
      "source": [
        "theta = np.polyfit(x,y,1)\n",
        "print(theta)"
      ],
      "metadata": {
        "colab": {
          "base_uri": "https://localhost:8080/"
        },
        "id": "KmNhOtbNTIuZ",
        "outputId": "2acbefde-ba57-41a0-c174-686b91176f05"
      },
      "execution_count": 25,
      "outputs": [
        {
          "output_type": "stream",
          "name": "stdout",
          "text": [
            "[ 3.20174564 -0.36359102]\n"
          ]
        }
      ]
    },
    {
      "cell_type": "code",
      "source": [
        "modelx = np.poly1d(theta)\n",
        "print(modelx)"
      ],
      "metadata": {
        "colab": {
          "base_uri": "https://localhost:8080/"
        },
        "id": "2zQSFo-YVFt-",
        "outputId": "3b892a45-6078-4af2-8628-52bd7657bf80"
      },
      "execution_count": 26,
      "outputs": [
        {
          "output_type": "stream",
          "name": "stdout",
          "text": [
            " \n",
            "3.202 x - 0.3636\n"
          ]
        }
      ]
    },
    {
      "cell_type": "code",
      "source": [
        "H = modelx(X)\n",
        "print(H)\n"
      ],
      "metadata": {
        "colab": {
          "base_uri": "https://localhost:8080/"
        },
        "id": "ljZaGkg7VTCZ",
        "outputId": "6e2389f7-1b50-496a-865a-1ba324697d2f"
      },
      "execution_count": 27,
      "outputs": [
        {
          "output_type": "stream",
          "name": "stdout",
          "text": [
            "[ 2.83815461  6.03990025  7.64077307  9.24164589 12.44339152 14.04426434\n",
            " 18.84688279 22.04862843 25.25037406 28.4521197  31.65386534]\n"
          ]
        }
      ]
    },
    {
      "cell_type": "code",
      "source": [
        "plt.plot(x, y , 'ro')\n",
        "plt.axis([0,6,0,20])\n",
        "plt.plot(X ,H)\n",
        "plt.show()"
      ],
      "metadata": {
        "colab": {
          "base_uri": "https://localhost:8080/",
          "height": 269
        },
        "id": "bXTqPQDPVe07",
        "outputId": "2b41a66f-3531-411a-e05a-7d7a6d7ee720"
      },
      "execution_count": 28,
      "outputs": [
        {
          "output_type": "display_data",
          "data": {
            "text/plain": [
              "<Figure size 432x288 with 1 Axes>"
            ],
            "image/png": "[encoded data removed]"
          },
          "metadata": {
            "needs_background": "light"
          }
        }
      ]
    },
    {
      "cell_type": "code",
      "source": [
        ""
      ],
      "metadata": {
        "id": "7iaMzO50WIox"
      },
      "execution_count": null,
      "outputs": []
    }
  ]
}